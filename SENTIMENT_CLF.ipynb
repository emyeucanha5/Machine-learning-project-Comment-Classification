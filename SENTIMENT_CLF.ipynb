{
  "nbformat": 4,
  "nbformat_minor": 0,
  "metadata": {
    "accelerator": "GPU",
    "colab": {
      "name": "DSP304_ASS2_NLP_TEXT_CLF.ipynb",
      "provenance": [],
      "collapsed_sections": []
    },
    "kernelspec": {
      "display_name": "Python 3",
      "name": "python3"
    }
  },
  "cells": [
    {
      "cell_type": "markdown",
      "metadata": {
        "id": "3AkEoCKaHdpj"
      },
      "source": [
        "\n",
        "In this notebook, we will try the process of implementing RNN with Keras in order to classify text sentences.\n",
        "\n",
        "I.   **Firstly**, we'll import useful packages.\n",
        "\n",
        "II.   **Then**, we'll load the data and create a word embedding matrix using Glove.\n",
        "\n",
        "III.  **We'll try a simple RNN model** and then we will evaluate its performances.\n",
        "\n",
        "IV. Finally, we'll use techniques to increase our model's accuracy."
      ]
    },
    {
      "cell_type": "markdown",
      "metadata": {
        "id": "_xY_w9I1cZni"
      },
      "source": [
        "**Task 1:** Setting Fre GPU in this Google Colab notebook."
      ]
    },
    {
      "cell_type": "markdown",
      "metadata": {
        "id": "H4iAL0E0ciDS"
      },
      "source": [
        "## Mounting Google Drive locally\n",
        "**Task 2:** Mount the Google Driver into the Google Colab Driver.\n"
      ]
    },
    {
      "cell_type": "code",
      "metadata": {
        "colab": {
          "base_uri": "https://localhost:8080/"
        },
        "id": "I8iz8Rp8H5pG",
        "outputId": "613d5c89-acff-4284-f670-67e00968cb87"
      },
      "source": [
        "## TYPE YOUR CODE for task 2 here:\n",
        "from google.colab import drive\n",
        "drive.mount('/content/drive')"
      ],
      "execution_count": null,
      "outputs": [
        {
          "output_type": "stream",
          "text": [
            "Mounted at /content/drive\n"
          ],
          "name": "stdout"
        }
      ]
    },
    {
      "cell_type": "markdown",
      "metadata": {
        "id": "LeAakuO9cD5s"
      },
      "source": [
        "# I. Let import all useful packages."
      ]
    },
    {
      "cell_type": "code",
      "metadata": {
        "colab": {
          "base_uri": "https://localhost:8080/"
        },
        "id": "TWgEP6KSHmV_",
        "outputId": "bedb1d88-8cde-4b81-e6a4-d467d8395b94"
      },
      "source": [
        "!pip install tensorflow_addons\n",
        "import sys, os, re, csv, codecs, numpy as np, pandas as pd\n",
        "import tensorflow.keras\n",
        "import datetime\n",
        "from tensorflow.keras import backend as K\n",
        "import tensorflow.keras.optimizers as Optimizer\n",
        "from tensorflow.keras.utils import to_categorical\n",
        "from tensorflow.keras.callbacks import ModelCheckpoint, TensorBoard,ReduceLROnPlateau,EarlyStopping\n",
        "from tensorflow.keras.preprocessing.text import Tokenizer\n",
        "from tensorflow.keras.preprocessing.sequence import pad_sequences\n",
        "from tensorflow.keras.layers import Dense, Input, LSTM, Embedding, Dropout, Activation,GRU,BatchNormalization\n",
        "from tensorflow.keras.layers import Bidirectional, GlobalMaxPool1D\n",
        "from tensorflow.keras.models import Model, load_model,Sequential\n",
        "import tensorflow_addons as tfa\n",
        "\n",
        "from tensorflow.keras import initializers, regularizers, constraints, optimizers, layers\n",
        "from sklearn.metrics import confusion_matrix as CM\n",
        "from sklearn.metrics import confusion_matrix, f1_score, precision_score, recall_score\n",
        "from sklearn.model_selection import train_test_split\n",
        "import matplotlib.pyplot as plot\n",
        "import seaborn as sn"
      ],
      "execution_count": null,
      "outputs": [
        {
          "output_type": "stream",
          "text": [
            "Collecting tensorflow_addons\n",
            "\u001b[?25l  Downloading https://files.pythonhosted.org/packages/74/e3/56d2fe76f0bb7c88ed9b2a6a557e25e83e252aec08f13de34369cd850a0b/tensorflow_addons-0.12.1-cp37-cp37m-manylinux2010_x86_64.whl (703kB)\n",
            "\r\u001b[K     |▌                               | 10kB 14.6MB/s eta 0:00:01\r\u001b[K     |█                               | 20kB 19.0MB/s eta 0:00:01\r\u001b[K     |█▍                              | 30kB 15.7MB/s eta 0:00:01\r\u001b[K     |█▉                              | 40kB 14.8MB/s eta 0:00:01\r\u001b[K     |██▎                             | 51kB 8.7MB/s eta 0:00:01\r\u001b[K     |██▉                             | 61kB 8.0MB/s eta 0:00:01\r\u001b[K     |███▎                            | 71kB 8.8MB/s eta 0:00:01\r\u001b[K     |███▊                            | 81kB 9.4MB/s eta 0:00:01\r\u001b[K     |████▏                           | 92kB 9.7MB/s eta 0:00:01\r\u001b[K     |████▋                           | 102kB 8.2MB/s eta 0:00:01\r\u001b[K     |█████▏                          | 112kB 8.2MB/s eta 0:00:01\r\u001b[K     |█████▋                          | 122kB 8.2MB/s eta 0:00:01\r\u001b[K     |██████                          | 133kB 8.2MB/s eta 0:00:01\r\u001b[K     |██████▌                         | 143kB 8.2MB/s eta 0:00:01\r\u001b[K     |███████                         | 153kB 8.2MB/s eta 0:00:01\r\u001b[K     |███████▌                        | 163kB 8.2MB/s eta 0:00:01\r\u001b[K     |████████                        | 174kB 8.2MB/s eta 0:00:01\r\u001b[K     |████████▍                       | 184kB 8.2MB/s eta 0:00:01\r\u001b[K     |████████▉                       | 194kB 8.2MB/s eta 0:00:01\r\u001b[K     |█████████▎                      | 204kB 8.2MB/s eta 0:00:01\r\u001b[K     |█████████▉                      | 215kB 8.2MB/s eta 0:00:01\r\u001b[K     |██████████▎                     | 225kB 8.2MB/s eta 0:00:01\r\u001b[K     |██████████▊                     | 235kB 8.2MB/s eta 0:00:01\r\u001b[K     |███████████▏                    | 245kB 8.2MB/s eta 0:00:01\r\u001b[K     |███████████▋                    | 256kB 8.2MB/s eta 0:00:01\r\u001b[K     |████████████▏                   | 266kB 8.2MB/s eta 0:00:01\r\u001b[K     |████████████▋                   | 276kB 8.2MB/s eta 0:00:01\r\u001b[K     |█████████████                   | 286kB 8.2MB/s eta 0:00:01\r\u001b[K     |█████████████▌                  | 296kB 8.2MB/s eta 0:00:01\r\u001b[K     |██████████████                  | 307kB 8.2MB/s eta 0:00:01\r\u001b[K     |██████████████▍                 | 317kB 8.2MB/s eta 0:00:01\r\u001b[K     |███████████████                 | 327kB 8.2MB/s eta 0:00:01\r\u001b[K     |███████████████▍                | 337kB 8.2MB/s eta 0:00:01\r\u001b[K     |███████████████▉                | 348kB 8.2MB/s eta 0:00:01\r\u001b[K     |████████████████▎               | 358kB 8.2MB/s eta 0:00:01\r\u001b[K     |████████████████▊               | 368kB 8.2MB/s eta 0:00:01\r\u001b[K     |█████████████████▎              | 378kB 8.2MB/s eta 0:00:01\r\u001b[K     |█████████████████▊              | 389kB 8.2MB/s eta 0:00:01\r\u001b[K     |██████████████████▏             | 399kB 8.2MB/s eta 0:00:01\r\u001b[K     |██████████████████▋             | 409kB 8.2MB/s eta 0:00:01\r\u001b[K     |███████████████████             | 419kB 8.2MB/s eta 0:00:01\r\u001b[K     |███████████████████▋            | 430kB 8.2MB/s eta 0:00:01\r\u001b[K     |████████████████████            | 440kB 8.2MB/s eta 0:00:01\r\u001b[K     |████████████████████▌           | 450kB 8.2MB/s eta 0:00:01\r\u001b[K     |█████████████████████           | 460kB 8.2MB/s eta 0:00:01\r\u001b[K     |█████████████████████▍          | 471kB 8.2MB/s eta 0:00:01\r\u001b[K     |██████████████████████          | 481kB 8.2MB/s eta 0:00:01\r\u001b[K     |██████████████████████▍         | 491kB 8.2MB/s eta 0:00:01\r\u001b[K     |██████████████████████▉         | 501kB 8.2MB/s eta 0:00:01\r\u001b[K     |███████████████████████▎        | 512kB 8.2MB/s eta 0:00:01\r\u001b[K     |███████████████████████▊        | 522kB 8.2MB/s eta 0:00:01\r\u001b[K     |████████████████████████▎       | 532kB 8.2MB/s eta 0:00:01\r\u001b[K     |████████████████████████▊       | 542kB 8.2MB/s eta 0:00:01\r\u001b[K     |█████████████████████████▏      | 552kB 8.2MB/s eta 0:00:01\r\u001b[K     |█████████████████████████▋      | 563kB 8.2MB/s eta 0:00:01\r\u001b[K     |██████████████████████████      | 573kB 8.2MB/s eta 0:00:01\r\u001b[K     |██████████████████████████▋     | 583kB 8.2MB/s eta 0:00:01\r\u001b[K     |███████████████████████████     | 593kB 8.2MB/s eta 0:00:01\r\u001b[K     |███████████████████████████▌    | 604kB 8.2MB/s eta 0:00:01\r\u001b[K     |████████████████████████████    | 614kB 8.2MB/s eta 0:00:01\r\u001b[K     |████████████████████████████▍   | 624kB 8.2MB/s eta 0:00:01\r\u001b[K     |████████████████████████████▉   | 634kB 8.2MB/s eta 0:00:01\r\u001b[K     |█████████████████████████████▍  | 645kB 8.2MB/s eta 0:00:01\r\u001b[K     |█████████████████████████████▉  | 655kB 8.2MB/s eta 0:00:01\r\u001b[K     |██████████████████████████████▎ | 665kB 8.2MB/s eta 0:00:01\r\u001b[K     |██████████████████████████████▊ | 675kB 8.2MB/s eta 0:00:01\r\u001b[K     |███████████████████████████████▏| 686kB 8.2MB/s eta 0:00:01\r\u001b[K     |███████████████████████████████▊| 696kB 8.2MB/s eta 0:00:01\r\u001b[K     |████████████████████████████████| 706kB 8.2MB/s \n",
            "\u001b[?25hRequirement already satisfied: typeguard>=2.7 in /usr/local/lib/python3.7/dist-packages (from tensorflow_addons) (2.7.1)\n",
            "Installing collected packages: tensorflow-addons\n",
            "Successfully installed tensorflow-addons-0.12.1\n"
          ],
          "name": "stdout"
        }
      ]
    },
    {
      "cell_type": "markdown",
      "metadata": {
        "id": "ZvFTfBIscRwC"
      },
      "source": [
        "**Task 3**: Copy the dataset from Google Drive into Colab"
      ]
    },
    {
      "cell_type": "code",
      "metadata": {
        "id": "MzzQsanZIZfg"
      },
      "source": [
        "## TYPE YOUR CODE for task 3 here:\n",
        "#/content/drive/MyDrive/Colab Notebooks/DeepLearning_Funix/train_ASS2.csv"
      ],
      "execution_count": null,
      "outputs": []
    },
    {
      "cell_type": "markdown",
      "metadata": {
        "id": "D_GxFMl7dFJ-"
      },
      "source": [
        "# II. Load the data.\n",
        "\n",
        "## About dataset.\n",
        "An invalid question is defined as a question intended to make a statement rather than look for helpful answers. Some characteristics that can signify that a question is invalid:\n",
        "\n",
        "* Has a non-neutral tone.\n",
        "* Is disparaging or inflammatory.\n",
        "* Isn't grounded in reality.\n",
        "* Uses sexual content (incest, bestiality, pedophilia) for shock value, and not to seek genuine answers\n",
        "\n",
        "The data includes the question that was asked, and whether it was identified as invalid (target = 1). "
      ]
    },
    {
      "cell_type": "markdown",
      "metadata": {
        "id": "A9HhWwT-gpuN"
      },
      "source": [
        "**Task 4**: Load the dataset.\n",
        "* Load the data from CSV file.\n",
        "* Remove all the rows with NA values.\n",
        "* Split the data into 3 set: Training set, validation set and test set (0.9/0.05/0.05, random_seed = 9) with a same ratio of data number beween each class.\n",
        "* Print out these dataset's description.\n",
        "\n",
        "\n"
      ]
    },
    {
      "cell_type": "code",
      "metadata": {
        "colab": {
          "base_uri": "https://localhost:8080/"
        },
        "id": "j9HMbZrqK1Rq",
        "outputId": "5ecc0a36-555e-4e35-c15e-380639c3677c"
      },
      "source": [
        "def load_data(data_link):\n",
        "    '''\n",
        "    input: data link.\n",
        "    output:\n",
        "        train_set, validation_set and test_set(0.95/0.05/0.05) without NA values.\n",
        "    '''\n",
        "    ## TYPE YOUR CODE for task 4 here:\n",
        "    df=pd.read_csv(data_link)\n",
        "    df.dropna(inplace=True)\n",
        "    np.random.seed(9)\n",
        "    x_train,x_test,y_train,y_test=train_test_split(df[['qid','question_text']],df[['target']],test_size=0.1,shuffle=True)\n",
        "    x_val,x_test,y_val,y_test=train_test_split(x_test,y_test,test_size=0.5,shuffle=True)\n",
        "    train=pd.concat([x_train,y_train],axis=1)\n",
        "    test=pd.concat([x_test,y_test],axis=1)\n",
        "    val=pd.concat([x_val,y_val],axis=1)\n",
        "    return train,val,test\n",
        "\n",
        "train_set, validation_set, test_set = load_data('/content/drive/MyDrive/Colab Notebooks/DeepLearning_Funix/train_ASS2.csv')\n",
        "print(train_set['target'].describe())\n",
        "print(validation_set['target'].describe())\n",
        "print(test_set['target'].describe())"
      ],
      "execution_count": null,
      "outputs": [
        {
          "output_type": "stream",
          "text": [
            "count    1.175509e+06\n",
            "mean     6.185150e-02\n",
            "std      2.408858e-01\n",
            "min      0.000000e+00\n",
            "25%      0.000000e+00\n",
            "50%      0.000000e+00\n",
            "75%      0.000000e+00\n",
            "max      1.000000e+00\n",
            "Name: target, dtype: float64\n",
            "count    65306.000000\n",
            "mean         0.061602\n",
            "std          0.240434\n",
            "min          0.000000\n",
            "25%          0.000000\n",
            "50%          0.000000\n",
            "75%          0.000000\n",
            "max          1.000000\n",
            "Name: target, dtype: float64\n",
            "count    65307.000000\n",
            "mean         0.062474\n",
            "std          0.242017\n",
            "min          0.000000\n",
            "25%          0.000000\n",
            "50%          0.000000\n",
            "75%          0.000000\n",
            "max          1.000000\n",
            "Name: target, dtype: float64\n"
          ],
          "name": "stdout"
        }
      ]
    },
    {
      "cell_type": "markdown",
      "metadata": {
        "id": "sIcOnRkbqofC"
      },
      "source": [
        "# Encoding text data.\n",
        "Let declare some fundamental parameters first:"
      ]
    },
    {
      "cell_type": "code",
      "metadata": {
        "id": "0F3_zcCjHwzm"
      },
      "source": [
        "embed_size = 50 # how big is each word vector\n",
        "max_features = 20000 # how many unique words to use (i.e num rows in embedding vector)\n",
        "max_len = 50 # max number of words in a question to use\n"
      ],
      "execution_count": null,
      "outputs": []
    },
    {
      "cell_type": "markdown",
      "metadata": {
        "id": "vT8m71iixjxt"
      },
      "source": [
        "**Task 5:** Encode the dataset using Tokenizer and one-hot encoding vector.\n",
        "* Encode the text (question_text column) by turning each question text into a list of word indexes using [Tokenizer](https://stackoverflow.com/questions/51956000/what-does-keras-tokenizer-method-exactly-do) with **max_features** and all the text sentences from the training and the validation set. \n",
        "* Turn each list of word indexes into an equal length - **max_len** (with truncation or padding as needed) using [pad_sequences](https://keras.io/preprocessing/sequence/).\n",
        "* Encode the label (label column) using [to_categorical](https://keras.io/utils/) function on Keras."
      ]
    },
    {
      "cell_type": "code",
      "metadata": {
        "id": "Q1MZKNs4xmfP"
      },
      "source": [
        "\n",
        "def encode(max_features,max_len,embed_size,train,val,test):\n",
        "  \n",
        "  tokenizer=Tokenizer(num_words=max_features)\n",
        "  tokenizer.fit_on_texts(train['question_text'])\n",
        "  tokenizer.fit_on_texts(val['question_text'])\n",
        "  train_x=tokenizer.texts_to_sequences(train['question_text'])\n",
        "  val_x=tokenizer.texts_to_sequences(val['question_text'])\n",
        "  test_x=tokenizer.texts_to_sequences(test['question_text'])\n",
        "  train_x=pad_sequences(train_x,maxlen=max_len)\n",
        "  test_x=pad_sequences(test_x,maxlen=max_len)\n",
        "  val_x=pad_sequences(val_x,maxlen=max_len)\n",
        "  y_tr=to_categorical(train['target'],num_classes=2)\n",
        "  y_va=to_categorical(val['target'],num_classes=2)\n",
        "  y_te=test['target']\n",
        "  return train_x,val_x,test_x,y_tr,y_va,y_te,tokenizer\n",
        "\n",
        "X_tr,X_va,X_te,y_tr,y_va,y_te,tokenizer=encode(max_features,max_len,embed_size,train_set,validation_set,test_set)\n"
      ],
      "execution_count": null,
      "outputs": []
    },
    {
      "cell_type": "markdown",
      "metadata": {
        "id": "9kpG-p30WUcc"
      },
      "source": [
        "\n",
        "\n",
        "**Task 6**: Create word embedding matrix.\n",
        "* Firstly, write a function to [load the GloVe dictionary.](https://medium.com/analytics-vidhya/basics-of-using-pre-trained-glove-vectors-in-python-d38905f356db)\n",
        "* Then, create a word embedding matrix using GloVe dictionary with these parameters:\n",
        "    - Word embedding matrix shape: (Number of word, embed_size).\n",
        "    - Embed size: 50.\n",
        "    - Number of words: The minimum of (max_features, len(word_index)), while word_index is the dictionary of word which contains in tokenizer.\n",
        "    - If a word occurs in GloVe dictionary, we should take its initialization value as in GloVe dictionary. Otherwise, take a normal random value with mean and std as mean and std of GloVe dictionary value.\n",
        "    \n",
        "\n"
      ]
    },
    {
      "cell_type": "code",
      "metadata": {
        "id": "47s8-SncWT3V"
      },
      "source": [
        "\n",
        "def get_coefs(word,*arr): \n",
        "    return word, np.asarray(arr, dtype='float32')\n",
        "def get_GloVe_dict(GloVe_link):\n",
        "    '''\n",
        "    input: GloVe link.\n",
        "    output: GloVe dictionary.\n",
        "    '''\n",
        "    ## TYPE YOUR CODE for task 6 here:\n",
        "    with open(GloVe_link) as f :\n",
        "     dic={}\n",
        "     for line in f :\n",
        "       line=line.split()\n",
        "       word=line[0]\n",
        "       value=np.array([float(x) for x in line[1:]])\n",
        "       dic[word]=value\n",
        "    return dic\n",
        "GloVe_link = '/content/drive/MyDrive/Colab Notebooks/DeepLearning_Funix/ASS2_glove.6B.50d.txt'\n",
        "GloVe_dict = get_GloVe_dict(GloVe_link)"
      ],
      "execution_count": null,
      "outputs": []
    },
    {
      "cell_type": "code",
      "metadata": {
        "id": "DXRyFSLtr4_k"
      },
      "source": [
        "def create_embedding_matrix(GloVe_dict, tokenizer, max_features):\n",
        "    '''\n",
        "    input: GloVe dictionaray, tokenizer from training and validation dataset, number of max features.\n",
        "    output: Word embedding matrix.\n",
        "    '''\n",
        "    \n",
        "    ## TYPE YOUR CODE for task 6 here:\n",
        "    glove_std=np.array([GloVe_dict[k] for k in GloVe_dict]).std()\n",
        "    glove_mean=np.array([GloVe_dict[k] for k in GloVe_dict]).mean()\n",
        "    word_index=tokenizer.word_index\n",
        "    no_words = min(max_features, len(word_index))\n",
        "    embedding_matrix=np.random.normal(glove_mean,glove_std,(no_words,embed_size))\n",
        "    for i,word in word_index.items() :\n",
        "      if word in GloVe_dict.keys() :\n",
        "        embedded_vector=GloVe_dict.get(word)\n",
        "        if embedded_vector != None :\n",
        "          embedding_matrix[i]=embedded_vector\n",
        "\n",
        "    return embedding_matrix\n",
        "\n",
        "embedding_matrix = create_embedding_matrix(GloVe_dict, tokenizer, max_features)"
      ],
      "execution_count": null,
      "outputs": []
    },
    {
      "cell_type": "markdown",
      "metadata": {
        "id": "NWybjdQkqWrg"
      },
      "source": [
        "III. Modelling\n",
        "There are some steps we need to finish:\n",
        "Build the model.\n",
        "\n",
        "Compile the model.\n",
        "\n",
        "Train / fit the data to the model.\n",
        "\n",
        "Evaluate the model on the testing set."
      ]
    },
    {
      "cell_type": "markdown",
      "metadata": {
        "id": "I6AMfqQkqcET"
      },
      "source": [
        "## Build the model\n",
        "**Task 7:** We can build an easy model composed of different layers such as:\n",
        "* [Embedding](https://keras.io/layers/embeddings/) layer with max_features, embed_size and embedding_matrix.\n",
        "* [Bidirectional LSTM layer](https://keras.io/examples/imdb_bidirectional_lstm/) with number of hidden state = 50, dropout_rate = 0.1 and recurrent_dropout_rate = 0.1.\n",
        "* GlobalMaxPool1D.\n",
        "* Dense with number of unit = 50, activation = 'relu'.\n",
        "* Dropout with rate = 0.1.\n",
        "* Final dense with number of unit = number of class, activation = 'sigmoid'."
      ]
    },
    {
      "cell_type": "code",
      "metadata": {
        "colab": {
          "base_uri": "https://localhost:8080/"
        },
        "id": "J7_eizWaqi_7",
        "outputId": "640e9b74-3e2c-4719-9dd4-d7e82813ae4f"
      },
      "source": [
        "def create_model(max_len, max_features, embed_size):\n",
        "    '''\n",
        "    input: max_len, max_features, embed_size\n",
        "    output: model.\n",
        "    '''\n",
        "    ## TYPE YOUR CODE for task 7 here:\n",
        "    model= Sequential([\n",
        "                       Embedding(input_dim=max_features,output_dim=embed_size,weights=[embedding_matrix]),\n",
        "                       Bidirectional(LSTM(50,return_sequences=True,dropout=0.1,recurrent_dropout=0.1)),\n",
        "                       GlobalMaxPool1D(),\n",
        "                       Dense(50,activation='relu'),\n",
        "                       Dropout(0.1),\n",
        "                       Dense(2,'sigmoid')\n",
        "                      ])\n",
        "    \n",
        "    return model\n",
        "\n",
        "model = create_model(max_len, max_features, embed_size)"
      ],
      "execution_count": null,
      "outputs": [
        {
          "output_type": "stream",
          "text": [
            "WARNING:tensorflow:Layer lstm will not use cuDNN kernel since it doesn't meet the cuDNN kernel criteria. It will use generic GPU kernel as fallback when running on GPU\n",
            "WARNING:tensorflow:Layer lstm will not use cuDNN kernel since it doesn't meet the cuDNN kernel criteria. It will use generic GPU kernel as fallback when running on GPU\n",
            "WARNING:tensorflow:Layer lstm will not use cuDNN kernel since it doesn't meet the cuDNN kernel criteria. It will use generic GPU kernel as fallback when running on GPU\n"
          ],
          "name": "stdout"
        }
      ]
    },
    {
      "cell_type": "markdown",
      "metadata": {
        "id": "lWcBKhzMux9Z"
      },
      "source": [
        "**Task 8:** Compile the model and setup the callback. Then print out the model summary.\n",
        "* [Compile](https://keras.io/models/model/#compile) the model with Adam Optimizaer, lr = 1e-2, suitable loss for binary classification problem and [\"F1-score\"](https://github.com/tensorflow/addons/issues/825) as metric.\n",
        "* Print out the model summary."
      ]
    },
    {
      "cell_type": "code",
      "metadata": {
        "colab": {
          "base_uri": "https://localhost:8080/"
        },
        "id": "P9l8EbG0ur1F",
        "outputId": "249b5645-e2de-4d83-de9e-4c629246c1db"
      },
      "source": [
        "def optimize(model):\n",
        "    '''\n",
        "    Input: \n",
        "        Model.\n",
        "    Return: \n",
        "        Complied model.\n",
        "    '''\n",
        "    ## TYPE YOUR CODE for task 8 here:\n",
        "    model.compile(optimizer=tensorflow.keras.optimizers.Adam(learning_rate=1e-2),loss='binary_crossentropy',\n",
        "                  metrics=['acc',tfa.metrics.FBetaScore(num_classes=2, average=\"macro\")])\n",
        "    return model\n",
        "\n",
        "model = optimize(model)\n",
        "print(model.summary())"
      ],
      "execution_count": null,
      "outputs": [
        {
          "output_type": "stream",
          "text": [
            "Model: \"sequential\"\n",
            "_________________________________________________________________\n",
            "Layer (type)                 Output Shape              Param #   \n",
            "=================================================================\n",
            "embedding (Embedding)        (None, None, 50)          1000000   \n",
            "_________________________________________________________________\n",
            "bidirectional (Bidirectional (None, None, 100)         40400     \n",
            "_________________________________________________________________\n",
            "global_max_pooling1d (Global (None, 100)               0         \n",
            "_________________________________________________________________\n",
            "dense (Dense)                (None, 50)                5050      \n",
            "_________________________________________________________________\n",
            "dropout (Dropout)            (None, 50)                0         \n",
            "_________________________________________________________________\n",
            "dense_1 (Dense)              (None, 2)                 102       \n",
            "=================================================================\n",
            "Total params: 1,045,552\n",
            "Trainable params: 1,045,552\n",
            "Non-trainable params: 0\n",
            "_________________________________________________________________\n",
            "None\n"
          ],
          "name": "stdout"
        }
      ]
    },
    {
      "cell_type": "markdown",
      "metadata": {
        "id": "0BlenccGzLVr"
      },
      "source": [
        "**Task 9**: Setup callback.\n",
        "* Create the [tensorboard callback](https://www.tensorflow.org/tensorboard/tensorboard_in_notebooks) to save the logs.\n",
        "* Create the [checkpoint callback](https://machinelearningmastery.com/check-point-deep-learning-models-keras/) to save the checkpoint with the best accuracy after each epoch.\n",
        "* Create the [ReduceLROnPlateau](https://keras.io/callbacks/#reducelronplateau) callback with factor=0.3, patience=1 and \"Validation F1-score\" monitor.\n",
        "* Create the [early stopping callback](https://keras.io/callbacks/#earlystopping) with patience=7, mode = 'max' and \"Validation F1-score\" monitor.\n",
        "\n"
      ]
    },
    {
      "cell_type": "code",
      "metadata": {
        "id": "I6x6dteutin0"
      },
      "source": [
        "\n",
        "def callback_model(checkpoint_name, log_names):\n",
        "    '''\n",
        "    Input: \n",
        "        Best checkpoint name, logs name.\n",
        "    Return: \n",
        "        Callback list, which contains tensorboard callback and checkpoint callback.\n",
        "    '''\n",
        "    ## TYPE YOUR CODE for task 9 here:\n",
        "    checkpoint=ModelCheckpoint(monitor='val_fbeta_score',filepath=checkpoint_name,save_best_only=True,mode='max')\n",
        "    tfboard=TensorBoard(log_dir=log_names)\n",
        "    RLR=ReduceLROnPlateau(monitor='val_fbeta_score',factor=0.3,patience=1,mode='max')\n",
        "    earlystop=EarlyStopping(monitor='val_fbeta_score',patience=7,mode='max')\n",
        "    callbacks_list=[checkpoint,tfboard,RLR,earlystop]\n",
        "    return callbacks_list\n",
        "\n",
        "checkpoint_name = 'weights.best.hdf5'\n",
        "log_names = 'training_logs'\n",
        "callbacks_list = callback_model(checkpoint_name, log_names)"
      ],
      "execution_count": null,
      "outputs": []
    },
    {
      "cell_type": "code",
      "metadata": {
        "colab": {
          "base_uri": "https://localhost:8080/"
        },
        "id": "WHTwh8OyvGqa",
        "outputId": "f0d987ec-7c15-434c-d2e7-445cba30cf68"
      },
      "source": [
        "model.summary()"
      ],
      "execution_count": null,
      "outputs": [
        {
          "output_type": "stream",
          "text": [
            "Model: \"sequential\"\n",
            "_________________________________________________________________\n",
            "Layer (type)                 Output Shape              Param #   \n",
            "=================================================================\n",
            "embedding (Embedding)        (None, None, 50)          1000000   \n",
            "_________________________________________________________________\n",
            "bidirectional (Bidirectional (None, None, 100)         40400     \n",
            "_________________________________________________________________\n",
            "global_max_pooling1d (Global (None, 100)               0         \n",
            "_________________________________________________________________\n",
            "dense (Dense)                (None, 50)                5050      \n",
            "_________________________________________________________________\n",
            "dropout (Dropout)            (None, 50)                0         \n",
            "_________________________________________________________________\n",
            "dense_1 (Dense)              (None, 2)                 102       \n",
            "=================================================================\n",
            "Total params: 1,045,552\n",
            "Trainable params: 1,045,552\n",
            "Non-trainable params: 0\n",
            "_________________________________________________________________\n"
          ],
          "name": "stdout"
        }
      ]
    },
    {
      "cell_type": "markdown",
      "metadata": {
        "id": "9nDCsHAC2HwW"
      },
      "source": [
        "**Task 10:** Train the model.\n",
        "\n",
        "* Train the model with 20 epochs with batch_size = 4096.\n",
        "* Return the model with best-checkpoint weights.\n",
        "\n",
        "*Hint*: Fit the model first, then reload the model (load_model function) with best-checkpoint weights."
      ]
    },
    {
      "cell_type": "code",
      "metadata": {
        "colab": {
          "background_save": true,
          "base_uri": "https://localhost:8080/"
        },
        "id": "xttwiHh4u0ES",
        "outputId": "708a7532-cee1-44f7-d527-c9b5c8387909"
      },
      "source": [
        "def train_model(model, callbacks_list):\n",
        "    '''\n",
        "    Input: \n",
        "        Model and callback list,\n",
        "    Return: \n",
        "        Model with best-checkpoint weights.\n",
        "    '''\n",
        "    ## TYPE YOUR CODE for task 10 here:\n",
        "    history=model.fit(X_tr,y_tr,validation_data=(X_va,y_va),epochs=20,batch_size=4096,callbacks=callbacks_list)\n",
        "    return model\n",
        "\n",
        "model = train_model(model, callbacks_list)\n"
      ],
      "execution_count": null,
      "outputs": [
        {
          "output_type": "stream",
          "text": [
            "Epoch 1/20\n",
            "287/287 [==============================] - 1386s 5s/step - loss: 0.1949 - acc: 0.9235 - fbeta_score: 0.5896 - val_loss: 0.1121 - val_acc: 0.9554 - val_fbeta_score: 0.8015\n",
            "Epoch 2/20\n",
            "287/287 [==============================] - 1358s 5s/step - loss: 0.1088 - acc: 0.9550 - fbeta_score: 0.7792 - val_loss: 0.1094 - val_acc: 0.9573 - val_fbeta_score: 0.8084\n",
            "Epoch 3/20\n",
            "287/287 [==============================] - 1360s 5s/step - loss: 0.1021 - acc: 0.9590 - fbeta_score: 0.8062 - val_loss: 0.1076 - val_acc: 0.9576 - val_fbeta_score: 0.8068\n",
            "Epoch 4/20\n",
            "287/287 [==============================] - 1371s 5s/step - loss: 0.0935 - acc: 0.9621 - fbeta_score: 0.8246 - val_loss: 0.1105 - val_acc: 0.9574 - val_fbeta_score: 0.8166\n",
            "Epoch 5/20\n",
            "287/287 [==============================] - 1369s 5s/step - loss: 0.0898 - acc: 0.9636 - fbeta_score: 0.8353 - val_loss: 0.1115 - val_acc: 0.9582 - val_fbeta_score: 0.8089\n",
            "Epoch 6/20\n",
            "287/287 [==============================] - 1379s 5s/step - loss: 0.0855 - acc: 0.9655 - fbeta_score: 0.8442 - val_loss: 0.1144 - val_acc: 0.9570 - val_fbeta_score: 0.8111\n",
            "Epoch 7/20\n",
            "287/287 [==============================] - 1382s 5s/step - loss: 0.0838 - acc: 0.9661 - fbeta_score: 0.8480 - val_loss: 0.1150 - val_acc: 0.9571 - val_fbeta_score: 0.8105\n",
            "Epoch 8/20\n",
            "287/287 [==============================] - 1340s 5s/step - loss: 0.0823 - acc: 0.9666 - fbeta_score: 0.8485 - val_loss: 0.1154 - val_acc: 0.9567 - val_fbeta_score: 0.8110\n",
            "Epoch 9/20\n",
            "287/287 [==============================] - 1343s 5s/step - loss: 0.0826 - acc: 0.9665 - fbeta_score: 0.8501 - val_loss: 0.1156 - val_acc: 0.9572 - val_fbeta_score: 0.8112\n",
            "Epoch 10/20\n",
            "287/287 [==============================] - 1345s 5s/step - loss: 0.0824 - acc: 0.9667 - fbeta_score: 0.8507 - val_loss: 0.1155 - val_acc: 0.9571 - val_fbeta_score: 0.8112\n",
            "Epoch 11/20\n",
            "287/287 [==============================] - 1349s 5s/step - loss: 0.0827 - acc: 0.9666 - fbeta_score: 0.8489 - val_loss: 0.1156 - val_acc: 0.9571 - val_fbeta_score: 0.8110\n"
          ],
          "name": "stdout"
        }
      ]
    },
    {
      "cell_type": "code",
      "metadata": {
        "id": "6kEsgC9e9Vc2"
      },
      "source": [
        "model.save('my_model')\n",
        "new_model=load_model('my_model')"
      ],
      "execution_count": null,
      "outputs": []
    },
    {
      "cell_type": "markdown",
      "metadata": {
        "id": "QsG02Ao07Mc-"
      },
      "source": [
        "**Task 11:** Show the tensorboard in the notebook."
      ]
    },
    {
      "cell_type": "code",
      "metadata": {
        "colab": {
          "background_save": true
        },
        "id": "jpBk-EKZ2Ut7"
      },
      "source": [
        "## TYPE YOUR CODE for task 11 here:\n",
        "from tensorboard import notebook\n",
        "notebook.list()\n"
      ],
      "execution_count": null,
      "outputs": []
    },
    {
      "cell_type": "markdown",
      "metadata": {
        "id": "4z1ed1CY8Rxh"
      },
      "source": [
        "**Task 12:** Prediction on test set.\n",
        "\n",
        "* Complete the get_prediction_classes function.\n",
        "* Print out the precision, recall and F1 score."
      ]
    },
    {
      "cell_type": "code",
      "metadata": {
        "colab": {
          "background_save": true
        },
        "id": "gHTjBLZYvx26",
        "outputId": "819f8a2e-cc1c-4b09-bb54-b8c2c5e25f39"
      },
      "source": [
        "def get_prediction_classes(model, X, y):\n",
        "    ## TYPE YOUR CODE for task 13 here:\n",
        "    '''\n",
        "    Input: \n",
        "        Model and prediction dataset.\n",
        "    Return: \n",
        "        Prediction list and groundtrurth list with predicted classes.\n",
        "    '''\n",
        "    predictions=np.argmax(model.predict(X),axis=1)\n",
        "    groundtruths=y\n",
        "    return predictions, groundtruths\n",
        "\n",
        "test_predictions, test_groundtruths = get_prediction_classes(model,  X_te, y_te)\n",
        "\n",
        "print(precision_score(test_predictions, test_groundtruths))\n",
        "print(recall_score(test_predictions, test_groundtruths))\n",
        "print(f1_score(test_predictions, test_groundtruths))"
      ],
      "execution_count": null,
      "outputs": [
        {
          "output_type": "stream",
          "text": [
            "0.6105392156862746\n",
            "0.6538057742782152\n",
            "0.6314321926489227\n"
          ],
          "name": "stdout"
        }
      ]
    },
    {
      "cell_type": "markdown",
      "metadata": {
        "id": "JJwQahjp8hZs"
      },
      "source": [
        "**Task 13:** Perform the predicted result on test set using confusion matrix. Remember to show the class name in the confusion matrix."
      ]
    },
    {
      "cell_type": "code",
      "metadata": {
        "colab": {
          "background_save": true
        },
        "id": "5KKAmOGvv2Be",
        "outputId": "d27003da-2538-471e-9898-7f668c9694b7"
      },
      "source": [
        "    ## TYPE YOUR CODE for task 13 here:\n",
        "def plot_confusion_matrix(predictions, groundtruth, class_names):\n",
        "\n",
        "  from sklearn.metrics import  ConfusionMatrixDisplay\n",
        "  cm = confusion_matrix(groundtruth,predictions)\n",
        "  disp = ConfusionMatrixDisplay(confusion_matrix=cm,\n",
        "                              display_labels=class_names)\n",
        "  \n",
        "  disp.plot(include_values=True,xticks_rotation='vertical')\n",
        "  plot.title('Confusion Matrix')\n",
        "  plot.show()   \n",
        "\n",
        "class_names = ['valid', 'invalid']\n",
        "plot_confusion_matrix(test_predictions, test_groundtruths, class_names)"
      ],
      "execution_count": null,
      "outputs": [
        {
          "output_type": "display_data",
          "data": {
            "image/png": "[encoded data removed]",
            "text/plain": [
              "<Figure size 432x288 with 2 Axes>"
            ]
          },
          "metadata": {
            "tags": []
          }
        }
      ]
    },
    {
      "cell_type": "markdown",
      "metadata": {
        "id": "fGmUAFDi87Z6"
      },
      "source": [
        "**Task 14**: Model finetuning - fine tune the model using some of these approachs:\n",
        "* Increase max epochs, change batch size.\n",
        "* Replace LSTM by GRU units and check if it changes anything.\n",
        "* Add another layer of LSTM/GRU, see if things improve.\n",
        "* Play around with Dense layers (add/# units/etc).\n",
        "* Find preprocessing rules you could add to improve the quality of the data.\n",
        "* Find another GloVe dictionary.\n",
        "Requirement: The F1 score should increase by 2-3%."
      ]
    },
    {
      "cell_type": "code",
      "metadata": {
        "colab": {
          "base_uri": "https://localhost:8080/"
        },
        "id": "ELLyczmROE8J",
        "outputId": "4051bcfb-f100-41e5-a698-3d44eb7ff35e"
      },
      "source": [
        "## TYPE YOUR CODE for task 14 here:\n",
        "def create_sota(max_len, max_features, embed_size):\n",
        "    model= Sequential([\n",
        "                       Embedding(input_dim=max_features,output_dim=embed_size,weights=[embedding_matrix]),\n",
        "                       Bidirectional(GRU(50,return_sequences=True,dropout=0.3,recurrent_dropout=0.3)),\n",
        "                       Bidirectional(GRU(50,return_sequences=True,dropout=0.3,recurrent_dropout=0.3)),\n",
        "                       GlobalMaxPool1D(),\n",
        "                       Dense(50,activation='relu'),\n",
        "                       Dropout(0.3),\n",
        "                       BatchNormalization(),\n",
        "                       Dense(2,'sigmoid')\n",
        "                      ])\n",
        "    \n",
        "    return model\n",
        "sota=create_sota(max_len, max_features, embed_size)\n",
        "sota=optimize(sota)\n",
        "history=sota.fit(X_tr,y_tr,validation_data=(X_va,y_va),epochs=30,batch_size=4096,callbacks=callbacks_list)"
      ],
      "execution_count": null,
      "outputs": [
        {
          "output_type": "stream",
          "text": [
            "WARNING:tensorflow:Layer gru_1 will not use cuDNN kernel since it doesn't meet the cuDNN kernel criteria. It will use generic GPU kernel as fallback when running on GPU\n",
            "WARNING:tensorflow:Layer gru_1 will not use cuDNN kernel since it doesn't meet the cuDNN kernel criteria. It will use generic GPU kernel as fallback when running on GPU\n",
            "WARNING:tensorflow:Layer gru_1 will not use cuDNN kernel since it doesn't meet the cuDNN kernel criteria. It will use generic GPU kernel as fallback when running on GPU\n",
            "WARNING:tensorflow:Layer gru_2 will not use cuDNN kernel since it doesn't meet the cuDNN kernel criteria. It will use generic GPU kernel as fallback when running on GPU\n",
            "WARNING:tensorflow:Layer gru_2 will not use cuDNN kernel since it doesn't meet the cuDNN kernel criteria. It will use generic GPU kernel as fallback when running on GPU\n",
            "WARNING:tensorflow:Layer gru_2 will not use cuDNN kernel since it doesn't meet the cuDNN kernel criteria. It will use generic GPU kernel as fallback when running on GPU\n",
            "Epoch 1/30\n",
            "287/287 [==============================] - 299s 1s/step - loss: 0.2339 - acc: 0.9133 - fbeta_score: 0.6251 - val_loss: 0.1124 - val_acc: 0.9559 - val_fbeta_score: 0.7775\n",
            "Epoch 2/30\n",
            "287/287 [==============================] - 279s 974ms/step - loss: 0.1136 - acc: 0.9540 - fbeta_score: 0.7649 - val_loss: 0.1107 - val_acc: 0.9558 - val_fbeta_score: 0.8092\n",
            "Epoch 3/30\n",
            "287/287 [==============================] - 279s 972ms/step - loss: 0.1088 - acc: 0.9557 - fbeta_score: 0.7794 - val_loss: 0.1100 - val_acc: 0.9573 - val_fbeta_score: 0.8047\n",
            "Epoch 4/30\n",
            "287/287 [==============================] - 277s 966ms/step - loss: 0.1032 - acc: 0.9582 - fbeta_score: 0.7945 - val_loss: 0.1100 - val_acc: 0.9579 - val_fbeta_score: 0.7936\n",
            "Epoch 5/30\n",
            "287/287 [==============================] - 282s 982ms/step - loss: 0.0999 - acc: 0.9593 - fbeta_score: 0.8021 - val_loss: 0.1111 - val_acc: 0.9582 - val_fbeta_score: 0.8008\n",
            "Epoch 6/30\n",
            "287/287 [==============================] - 285s 993ms/step - loss: 0.0997 - acc: 0.9595 - fbeta_score: 0.8050 - val_loss: 0.1112 - val_acc: 0.9580 - val_fbeta_score: 0.8021\n",
            "Epoch 7/30\n",
            "287/287 [==============================] - 283s 987ms/step - loss: 0.0994 - acc: 0.9598 - fbeta_score: 0.8061 - val_loss: 0.1113 - val_acc: 0.9581 - val_fbeta_score: 0.8001\n",
            "Epoch 8/30\n",
            "287/287 [==============================] - 287s 1s/step - loss: 0.0989 - acc: 0.9596 - fbeta_score: 0.8052 - val_loss: 0.1114 - val_acc: 0.9581 - val_fbeta_score: 0.8016\n",
            "Epoch 9/30\n",
            "287/287 [==============================] - 290s 1s/step - loss: 0.0988 - acc: 0.9594 - fbeta_score: 0.8039 - val_loss: 0.1114 - val_acc: 0.9580 - val_fbeta_score: 0.8015\n"
          ],
          "name": "stdout"
        }
      ]
    },
    {
      "cell_type": "code",
      "metadata": {
        "id": "F00919X0_0eT"
      },
      "source": [
        "!rm -rf training_log"
      ],
      "execution_count": null,
      "outputs": []
    },
    {
      "cell_type": "code",
      "metadata": {
        "colab": {
          "base_uri": "https://localhost:8080/",
          "height": 282
        },
        "id": "SSCNzXfzym39",
        "outputId": "f98b1267-ab12-4837-bf5b-e694c9cb3ede"
      },
      "source": [
        "hist_val=history.history\n",
        "plot.plot(hist_val['fbeta_score'],label='training_f1')\n",
        "plot.plot(hist_val['val_fbeta_score'],label='val_f1')\n",
        "plot.legend(loc='lower right')"
      ],
      "execution_count": null,
      "outputs": [
        {
          "output_type": "execute_result",
          "data": {
            "text/plain": [
              "<matplotlib.legend.Legend at 0x7f7d25ef2050>"
            ]
          },
          "metadata": {
            "tags": []
          },
          "execution_count": 22
        },
        {
          "output_type": "display_data",
          "data": {
            "image/png": "[encoded data removed]",
            "text/plain": [
              "<Figure size 432x288 with 1 Axes>"
            ]
          },
          "metadata": {
            "tags": []
          }
        }
      ]
    },
    {
      "cell_type": "code",
      "metadata": {
        "colab": {
          "background_save": true
        },
        "id": "GULVwhKQZ-zz"
      },
      "source": [
        "def get_prediction_classes(model, X, y):\n",
        "    predictions=np.argmax(model.predict(X),axis=1)\n",
        "    groundtruths=y\n",
        "    return predictions, groundtruths\n",
        "\n",
        "sota_pred, sota_groundtruths = get_prediction_classes(sota,  X_te, y_te)\n",
        "\n",
        "print(f1_score(sota_pred, sota_groundtruths))"
      ],
      "execution_count": null,
      "outputs": []
    },
    {
      "cell_type": "code",
      "metadata": {
        "id": "VbToDKymc0ul"
      },
      "source": [
        ""
      ],
      "execution_count": null,
      "outputs": []
    }
  ]
}